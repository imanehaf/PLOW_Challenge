{
 "metadata": {
  "name": "",
  "signature": "sha256:98771ec1a699f54d02933ecf277ed3d57308cfc4b8c702c376e7f73219594823"
 },
 "nbformat": 3,
 "nbformat_minor": 0,
 "worksheets": [
  {
   "cells": [
    {
     "cell_type": "markdown",
     "metadata": {},
     "source": [
      "# PLOW Challenge Submission \n",
      "\n",
      "\n",
      "## Task 1: "
     ]
    },
    {
     "cell_type": "markdown",
     "metadata": {},
     "source": [
      "+ Reading the .csv file and displaying the first 11 entries"
     ]
    },
    {
     "cell_type": "code",
     "collapsed": true,
     "input": [
      "import pandas as pd \n",
      "babies = pd.read_csv('data/baby-names2.csv')\n",
      "babies[:12]"
     ],
     "language": "python",
     "metadata": {},
     "outputs": [
      {
       "html": [
        "<div style=\"max-height:1000px;max-width:1500px;overflow:auto;\">\n",
        "<table border=\"1\" class=\"dataframe\">\n",
        "  <thead>\n",
        "    <tr style=\"text-align: right;\">\n",
        "      <th></th>\n",
        "      <th>year</th>\n",
        "      <th>name</th>\n",
        "      <th>prop</th>\n",
        "      <th>sex</th>\n",
        "      <th>soundex</th>\n",
        "    </tr>\n",
        "  </thead>\n",
        "  <tbody>\n",
        "    <tr>\n",
        "      <th>0 </th>\n",
        "      <td> 1880</td>\n",
        "      <td>    John</td>\n",
        "      <td> 0.081541</td>\n",
        "      <td> boy</td>\n",
        "      <td> J500</td>\n",
        "    </tr>\n",
        "    <tr>\n",
        "      <th>1 </th>\n",
        "      <td> 1880</td>\n",
        "      <td> William</td>\n",
        "      <td> 0.080511</td>\n",
        "      <td> boy</td>\n",
        "      <td> W450</td>\n",
        "    </tr>\n",
        "    <tr>\n",
        "      <th>2 </th>\n",
        "      <td> 1880</td>\n",
        "      <td>   James</td>\n",
        "      <td> 0.050057</td>\n",
        "      <td> boy</td>\n",
        "      <td> J520</td>\n",
        "    </tr>\n",
        "    <tr>\n",
        "      <th>3 </th>\n",
        "      <td> 1880</td>\n",
        "      <td> Charles</td>\n",
        "      <td> 0.045167</td>\n",
        "      <td> boy</td>\n",
        "      <td> C642</td>\n",
        "    </tr>\n",
        "    <tr>\n",
        "      <th>4 </th>\n",
        "      <td> 1880</td>\n",
        "      <td>  George</td>\n",
        "      <td> 0.043292</td>\n",
        "      <td> boy</td>\n",
        "      <td> G620</td>\n",
        "    </tr>\n",
        "    <tr>\n",
        "      <th>5 </th>\n",
        "      <td> 1880</td>\n",
        "      <td>   Frank</td>\n",
        "      <td> 0.027380</td>\n",
        "      <td> boy</td>\n",
        "      <td> F652</td>\n",
        "    </tr>\n",
        "    <tr>\n",
        "      <th>6 </th>\n",
        "      <td> 1880</td>\n",
        "      <td>  Joseph</td>\n",
        "      <td> 0.022229</td>\n",
        "      <td> boy</td>\n",
        "      <td> J210</td>\n",
        "    </tr>\n",
        "    <tr>\n",
        "      <th>7 </th>\n",
        "      <td> 1880</td>\n",
        "      <td>  Thomas</td>\n",
        "      <td> 0.021401</td>\n",
        "      <td> boy</td>\n",
        "      <td> T520</td>\n",
        "    </tr>\n",
        "    <tr>\n",
        "      <th>8 </th>\n",
        "      <td> 1880</td>\n",
        "      <td>   Henry</td>\n",
        "      <td> 0.020641</td>\n",
        "      <td> boy</td>\n",
        "      <td> H560</td>\n",
        "    </tr>\n",
        "    <tr>\n",
        "      <th>9 </th>\n",
        "      <td> 1880</td>\n",
        "      <td>  Robert</td>\n",
        "      <td> 0.020404</td>\n",
        "      <td> boy</td>\n",
        "      <td> R163</td>\n",
        "    </tr>\n",
        "    <tr>\n",
        "      <th>10</th>\n",
        "      <td> 1880</td>\n",
        "      <td>  Edward</td>\n",
        "      <td> 0.019965</td>\n",
        "      <td> boy</td>\n",
        "      <td> E363</td>\n",
        "    </tr>\n",
        "    <tr>\n",
        "      <th>11</th>\n",
        "      <td> 1880</td>\n",
        "      <td>   Harry</td>\n",
        "      <td> 0.018175</td>\n",
        "      <td> boy</td>\n",
        "      <td> H600</td>\n",
        "    </tr>\n",
        "  </tbody>\n",
        "</table>\n",
        "</div>"
       ],
       "metadata": {},
       "output_type": "pyout",
       "prompt_number": 9,
       "text": [
        "    year     name      prop  sex soundex\n",
        "0   1880     John  0.081541  boy    J500\n",
        "1   1880  William  0.080511  boy    W450\n",
        "2   1880    James  0.050057  boy    J520\n",
        "3   1880  Charles  0.045167  boy    C642\n",
        "4   1880   George  0.043292  boy    G620\n",
        "5   1880    Frank  0.027380  boy    F652\n",
        "6   1880   Joseph  0.022229  boy    J210\n",
        "7   1880   Thomas  0.021401  boy    T520\n",
        "8   1880    Henry  0.020641  boy    H560\n",
        "9   1880   Robert  0.020404  boy    R163\n",
        "10  1880   Edward  0.019965  boy    E363\n",
        "11  1880    Harry  0.018175  boy    H600"
       ]
      }
     ],
     "prompt_number": 9
    },
    {
     "cell_type": "markdown",
     "metadata": {},
     "source": [
      "+ Computing the number of boys and girls in the database."
     ]
    },
    {
     "cell_type": "code",
     "collapsed": true,
     "input": [
      "boynum=sum(babies.sex=='boy')\n",
      "girlnum=sum(babies.sex=='girl')\n",
      "print (boynum, girlnum)"
     ],
     "language": "python",
     "metadata": {},
     "outputs": [
      {
       "output_type": "stream",
       "stream": "stdout",
       "text": [
        "(129000, 129000)\n"
       ]
      }
     ],
     "prompt_number": 11
    },
    {
     "cell_type": "markdown",
     "metadata": {},
     "source": [
      "* Answer: the most popular name in 1945 is ..."
     ]
    },
    {
     "cell_type": "code",
     "collapsed": true,
     "input": [
      "s=babies[babies.year==1945].sort('prop')[-1:]\n",
      "print s.name.values"
     ],
     "language": "python",
     "metadata": {},
     "outputs": [
      {
       "output_type": "stream",
       "stream": "stdout",
       "text": [
        "['James']\n"
       ]
      }
     ],
     "prompt_number": 12
    },
    {
     "cell_type": "markdown",
     "metadata": {},
     "source": [
      "...apparently James..."
     ]
    },
    {
     "cell_type": "heading",
     "level": 2,
     "metadata": {},
     "source": [
      "Task 2 - Plotting data"
     ]
    },
    {
     "cell_type": "markdown",
     "metadata": {},
     "source": [
      "* Plot a graph that shows the transition in time of **Alice** from a boy to a girl name"
     ]
    },
    {
     "cell_type": "code",
     "collapsed": false,
     "input": [
      "import pandas as pd \n",
      "import matplotlib.pyplot as pl\n",
      "%matplotlib inline\n",
      "alice= babies[babies['name']=='Alice']\n",
      "\n",
      "b=alice[alice.sex=='boy']\n",
      "g=alice[alice.sex=='girl']\n",
      "\n",
      "ax = pl.axes()\n",
      "ax.set_yscale('log')\n",
      "pl.xkcd()\n",
      "pl.plot(b.year, b.prop);\n",
      "pl.plot(g.year, g.prop, 'r');"
     ],
     "language": "python",
     "metadata": {},
     "outputs": [
      {
       "metadata": {},
       "output_type": "display_data",
       "png": "[encoded data removed]",
       "text": [
        "<matplotlib.figure.Figure at 0xe40df28>"
       ]
      }
     ],
     "prompt_number": 22
    },
    {
     "cell_type": "markdown",
     "metadata": {},
     "source": [
      "....Voila! XKCD! You asked and you shall be served!"
     ]
    },
    {
     "cell_type": "markdown",
     "metadata": {},
     "source": [
      "* An interactive widget that shows the most popular name for a given year"
     ]
    },
    {
     "cell_type": "code",
     "collapsed": true,
     "input": [
      "from IPython.html.widgets import interactive,fixed\n",
      "def task2(data, yr):\n",
      "    s=data[data.year==yr].sort('prop', ascending=False)[0:1]\n",
      "    print s.name.values\n",
      "\n",
      "\n",
      "interactive(task2, data=fixed(babies), yr=[1880,2020])\n"
     ],
     "language": "python",
     "metadata": {},
     "outputs": [
      {
       "output_type": "stream",
       "stream": "stdout",
       "text": [
        "['James']\n"
       ]
      }
     ],
     "prompt_number": 14
    },
    {
     "cell_type": "heading",
     "level": 2,
     "metadata": {},
     "source": [
      "Task 3 - Tell a story (We made it!!! \\\\(^O^)/)"
     ]
    },
    {
     "cell_type": "markdown",
     "metadata": {},
     "source": [
      "+ Loading the `brains.csv` file as a DataFrame using `Mode` as the index label\n"
     ]
    },
    {
     "cell_type": "code",
     "collapsed": false,
     "input": [
      "import pandas as pd \n",
      "brains= pd.read_csv('data/brains.csv', index_col='Mode')"
     ],
     "language": "python",
     "metadata": {},
     "outputs": [],
     "prompt_number": 15
    },
    {
     "cell_type": "markdown",
     "metadata": {},
     "source": [
      "+ Filling the missing data with zeros and replacing the NaNs with zeros as well"
     ]
    },
    {
     "cell_type": "code",
     "collapsed": false,
     "input": [
      "brains=brains.reindex([range(101, 214)], fill_value=0).replace('NaN', 0)"
     ],
     "language": "python",
     "metadata": {},
     "outputs": [],
     "prompt_number": 16
    },
    {
     "cell_type": "markdown",
     "metadata": {},
     "source": [
      "+ Replacing all columns except `Mode` and `Covariates.x` with one column labeled 'sum' and removing the others after use..\n"
     ]
    },
    {
     "cell_type": "code",
     "collapsed": false,
     "input": [
      "col_list=brains.columns[0:-16]\n",
      "brains['sum']=brains[col_list].sum(axis=1)\n",
      "brains=brains.drop(col_list, axis=1)"
     ],
     "language": "python",
     "metadata": {},
     "outputs": [],
     "prompt_number": 18
    },
    {
     "cell_type": "markdown",
     "metadata": {},
     "source": [
      "+ The Covariate that best correlates with the sum comlumn"
     ]
    },
    {
     "cell_type": "code",
     "collapsed": false,
     "input": [
      "cov=abs(brains.corr('pearson')['sum'].drop('sum')).idxmax()\n",
      "covh=brains[cov]"
     ],
     "language": "python",
     "metadata": {},
     "outputs": [],
     "prompt_number": 19
    },
    {
     "cell_type": "markdown",
     "metadata": {},
     "source": [
      "+ Plotting the histogram using the pandas.DataFrame.hist() fct (the matplotlib hist wouldn't work for some obnoxious reason...I give up for now..)   \n",
      "     (This line of code removes the zeros first then plots the hitogram. If you want to keep the zeros, simply remove the code between [...])"
     ]
    },
    {
     "cell_type": "code",
     "collapsed": false,
     "input": [
      "%matplotlib inline\n",
      "covh[(brains.T != 0).any()].hist();"
     ],
     "language": "python",
     "metadata": {},
     "outputs": [
      {
       "metadata": {},
       "output_type": "display_data",
       "png": "[encoded data removed]",
       "text": [
        "<matplotlib.figure.Figure at 0x13ca0fd0>"
       ]
      }
     ],
     "prompt_number": 24
    }
   ],
   "metadata": {}
  }
 ]
}